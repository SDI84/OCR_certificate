{
 "cells": [
  {
   "cell_type": "markdown",
   "id": "7f8749a4",
   "metadata": {},
   "source": [
    "# OCR_certificate\n",
    "Оптическое распознование символов (OCR) для справок формы 405.  \n",
    "## Исходные данные\n",
    "Имеются файлы изображения справок формата '.jpg' и соответствующие им файлы данных '.csv'.\n",
    "## Задачи:\n",
    "- Детектировать табличную часть справки и распознать текст.\n",
    "- На выходе получить таблицу заданного вида.\n",
    "- Оценить качество решения.\n",
    "- Обернуть реализацию в микросервис."
   ]
  },
  {
   "cell_type": "code",
   "execution_count": 27,
   "id": "269498ee",
   "metadata": {},
   "outputs": [],
   "source": [
    "import os\n",
    "\n",
    "import pandas as pd\n",
    "\n",
    "import numpy as np\n",
    "import cv2 as cv\n",
    "from PIL import Image\n",
    "from PIL import ImageEnhance\n",
    "\n",
    "import utils\n",
    "from table import Table\n",
    "\n",
    "import matplotlib.pyplot as plt\n",
    "\n",
    "import pytesseract\n",
    "\n",
    "import math"
   ]
  },
  {
   "cell_type": "markdown",
   "id": "6f8886f4",
   "metadata": {},
   "source": [
    "# 1. Первичный анализ и предобработка данных\n"
   ]
  },
  {
   "cell_type": "markdown",
   "id": "cad7e905",
   "metadata": {},
   "source": [
    "## 1.1 Чтение всех файлов изображений и данных"
   ]
  },
  {
   "cell_type": "markdown",
   "id": "12b8fc43",
   "metadata": {},
   "source": [
    "Получим списки файлов '.jpg' и '.csv'."
   ]
  },
  {
   "cell_type": "code",
   "execution_count": 16,
   "id": "84c8f5ea",
   "metadata": {},
   "outputs": [
    {
     "name": "stdout",
     "output_type": "stream",
     "text": [
      "16 15\n"
     ]
    }
   ],
   "source": [
    "file_dir=\"datasets/\"\n",
    "content = os.listdir(file_dir)\n",
    "file_images=[]\n",
    "file_csv=[]\n",
    "for file in content:\n",
    "    if os.path.isfile(os.path.join(file_dir,file)) and file.endswith('.jpg'):\n",
    "        file_images.append(file)\n",
    "    if os.path.isfile(os.path.join(file_dir,file)) and file.endswith('.csv'):\n",
    "        file_csv.append(file)\n",
    "print(len(file_images),len(file_csv))"
   ]
  },
  {
   "cell_type": "markdown",
   "id": "573930a2",
   "metadata": {},
   "source": [
    "Число фалов изображений не совпадает с числом файлов данных.  \n",
    "Найдем файл которому нету пары или несколько таких файлов."
   ]
  },
  {
   "cell_type": "code",
   "execution_count": 17,
   "id": "13230775",
   "metadata": {},
   "outputs": [
    {
     "name": "stdout",
     "output_type": "stream",
     "text": [
      "141899 .jpg 141899.csv\n"
     ]
    }
   ],
   "source": [
    "print(file_images[0],file_csv[0])"
   ]
  },
  {
   "cell_type": "code",
   "execution_count": 22,
   "id": "31587ee0",
   "metadata": {},
   "outputs": [
    {
     "name": "stdout",
     "output_type": "stream",
     "text": [
      "240493.jpg\n"
     ]
    }
   ],
   "source": [
    "file_images_error = []\n",
    "for f in file_images:\n",
    "    f_number = f[:6]\n",
    "    if f_number+'.csv' not in file_csv:\n",
    "        file_images_error.append(f)\n",
    "        print(f)"
   ]
  },
  {
   "cell_type": "markdown",
   "id": "cbc2cdb7",
   "metadata": {},
   "source": [
    "Удалим название данного файла из списка"
   ]
  },
  {
   "cell_type": "code",
   "execution_count": 23,
   "id": "9ee87ea7",
   "metadata": {},
   "outputs": [
    {
     "data": {
      "text/plain": [
       "15"
      ]
     },
     "execution_count": 23,
     "metadata": {},
     "output_type": "execute_result"
    }
   ],
   "source": [
    "for f in file_images_error:\n",
    "    file_images.remove(f)\n",
    "len(file_images)"
   ]
  },
  {
   "cell_type": "markdown",
   "id": "38564f04",
   "metadata": {},
   "source": [
    "### 1.1.1 Прочитаем изображения в отдельный массив и создадим его копию."
   ]
  },
  {
   "cell_type": "code",
   "execution_count": 38,
   "id": "0303865f",
   "metadata": {},
   "outputs": [],
   "source": [
    "imgs = []\n",
    "for i in file_images:\n",
    "    imgs.append(cv.imread(file_dir+i))\n",
    "first_imgs = imgs.copy()"
   ]
  },
  {
   "cell_type": "markdown",
   "id": "dcacf768",
   "metadata": {},
   "source": [
    "Рассмотрим изображение первой справки для понимания структуры."
   ]
  },
  {
   "cell_type": "code",
   "execution_count": 35,
   "id": "f7968ff7",
   "metadata": {},
   "outputs": [],
   "source": [
    "cv.imshow(\"First\", first_imgs[0])\n",
    "cv.waitKey(0)"
   ]
  },
  {
   "cell_type": "markdown",
   "id": "b05cb115",
   "metadata": {},
   "source": [
    "### 1.1.2 Прочитаем данные в отдельный массив."
   ]
  },
  {
   "cell_type": "markdown",
   "id": "50ac49ee",
   "metadata": {},
   "source": [
    "Для понимания структуры файла данных рассмотрим первый из них."
   ]
  },
  {
   "cell_type": "code",
   "execution_count": 32,
   "id": "8c33c0cc",
   "metadata": {},
   "outputs": [
    {
     "data": {
      "text/html": [
       "<div>\n",
       "<style scoped>\n",
       "    .dataframe tbody tr th:only-of-type {\n",
       "        vertical-align: middle;\n",
       "    }\n",
       "\n",
       "    .dataframe tbody tr th {\n",
       "        vertical-align: top;\n",
       "    }\n",
       "\n",
       "    .dataframe thead th {\n",
       "        text-align: right;\n",
       "    }\n",
       "</style>\n",
       "<table border=\"1\" class=\"dataframe\">\n",
       "  <thead>\n",
       "    <tr style=\"text-align: right;\">\n",
       "      <th></th>\n",
       "      <th>ID</th>\n",
       "      <th>ID пользователя</th>\n",
       "      <th>Класс крови</th>\n",
       "      <th>Дата донации</th>\n",
       "      <th>Дата добавления донации</th>\n",
       "      <th>Тип донации</th>\n",
       "      <th>Регион</th>\n",
       "      <th>Место стадчи</th>\n",
       "      <th>Статус донации</th>\n",
       "      <th>Есть справка</th>\n",
       "    </tr>\n",
       "  </thead>\n",
       "  <tbody>\n",
       "    <tr>\n",
       "      <th>0</th>\n",
       "      <td>170415</td>\n",
       "      <td>204119</td>\n",
       "      <td>Цельная кровь</td>\n",
       "      <td>01.04.2015</td>\n",
       "      <td>23.12.2022</td>\n",
       "      <td>Безвозмездно</td>\n",
       "      <td>Россия, Тульская область, Тула</td>\n",
       "      <td>556</td>\n",
       "      <td>Принята</td>\n",
       "      <td>Да</td>\n",
       "    </tr>\n",
       "    <tr>\n",
       "      <th>1</th>\n",
       "      <td>170430</td>\n",
       "      <td>204119</td>\n",
       "      <td>Цельная кровь</td>\n",
       "      <td>27.07.2017</td>\n",
       "      <td>23.12.2022</td>\n",
       "      <td>Безвозмездно</td>\n",
       "      <td>Россия, Тульская область, Кимовск</td>\n",
       "      <td>Выездная акция</td>\n",
       "      <td>Принята</td>\n",
       "      <td>Да</td>\n",
       "    </tr>\n",
       "    <tr>\n",
       "      <th>2</th>\n",
       "      <td>170431</td>\n",
       "      <td>204119</td>\n",
       "      <td>Цельная кровь</td>\n",
       "      <td>11.10.2017</td>\n",
       "      <td>23.12.2022</td>\n",
       "      <td>Безвозмездно</td>\n",
       "      <td>Россия, Тульская область, Кимовск</td>\n",
       "      <td>Выездная акция</td>\n",
       "      <td>Принята</td>\n",
       "      <td>Да</td>\n",
       "    </tr>\n",
       "    <tr>\n",
       "      <th>3</th>\n",
       "      <td>170432</td>\n",
       "      <td>204119</td>\n",
       "      <td>Цельная кровь</td>\n",
       "      <td>30.07.2018</td>\n",
       "      <td>23.12.2022</td>\n",
       "      <td>Безвозмездно</td>\n",
       "      <td>Россия, Тульская область, Кимовск</td>\n",
       "      <td>Выездная акция</td>\n",
       "      <td>Принята</td>\n",
       "      <td>Да</td>\n",
       "    </tr>\n",
       "    <tr>\n",
       "      <th>4</th>\n",
       "      <td>170433</td>\n",
       "      <td>204119</td>\n",
       "      <td>Цельная кровь</td>\n",
       "      <td>16.10.2018</td>\n",
       "      <td>23.12.2022</td>\n",
       "      <td>Безвозмездно</td>\n",
       "      <td>Россия, Тульская область, Кимовск</td>\n",
       "      <td>Выездная акция</td>\n",
       "      <td>Принята</td>\n",
       "      <td>Да</td>\n",
       "    </tr>\n",
       "  </tbody>\n",
       "</table>\n",
       "</div>"
      ],
      "text/plain": [
       "       ID  ID пользователя    Класс крови Дата донации  \\\n",
       "0  170415           204119  Цельная кровь   01.04.2015   \n",
       "1  170430           204119  Цельная кровь   27.07.2017   \n",
       "2  170431           204119  Цельная кровь   11.10.2017   \n",
       "3  170432           204119  Цельная кровь   30.07.2018   \n",
       "4  170433           204119  Цельная кровь   16.10.2018   \n",
       "\n",
       "  Дата добавления донации   Тип донации                             Регион  \\\n",
       "0              23.12.2022  Безвозмездно     Россия, Тульская область, Тула   \n",
       "1              23.12.2022  Безвозмездно  Россия, Тульская область, Кимовск   \n",
       "2              23.12.2022  Безвозмездно  Россия, Тульская область, Кимовск   \n",
       "3              23.12.2022  Безвозмездно  Россия, Тульская область, Кимовск   \n",
       "4              23.12.2022  Безвозмездно  Россия, Тульская область, Кимовск   \n",
       "\n",
       "     Место стадчи Статус донации Есть справка  \n",
       "0             556        Принята           Да  \n",
       "1  Выездная акция        Принята           Да  \n",
       "2  Выездная акция        Принята           Да  \n",
       "3  Выездная акция        Принята           Да  \n",
       "4  Выездная акция        Принята           Да  "
      ]
     },
     "execution_count": 32,
     "metadata": {},
     "output_type": "execute_result"
    }
   ],
   "source": [
    "data_first = pd.read_csv(file_dir+file_csv[1])\n",
    "data_first.head()"
   ]
  },
  {
   "cell_type": "markdown",
   "id": "c49e4338",
   "metadata": {},
   "source": [
    "Из представленных данных в таблице изображения имеются столбцы 'Класс крови', 'Дата донации' , 'Тип донации' в результирующей таблице оставим только их."
   ]
  },
  {
   "cell_type": "code",
   "execution_count": 43,
   "id": "8dca0c17",
   "metadata": {},
   "outputs": [],
   "source": [
    "data_csv = []\n",
    "for f in file_csv:\n",
    "    data_csv.append(pd.read_csv(file_dir+f)[['Класс крови','Дата донации','Тип донации']])"
   ]
  },
  {
   "cell_type": "markdown",
   "id": "ade1666e",
   "metadata": {},
   "source": [
    "Проверим что полученные таблицы содержат по три столбца."
   ]
  },
  {
   "cell_type": "code",
   "execution_count": 48,
   "id": "e35861af",
   "metadata": {},
   "outputs": [],
   "source": [
    "for i in range(len(data_csv)):\n",
    "    if data_csv[i].shape[1] != 3:\n",
    "        print('Ошибка для таблицы №',i)\n",
    "    "
   ]
  },
  {
   "cell_type": "markdown",
   "id": "16bd111d",
   "metadata": {},
   "source": [
    "Ошибки отсутствуют.  \n",
    "Теперь найдем уникальные значения для каждого столбца с теустовыми значениями."
   ]
  },
  {
   "cell_type": "code",
   "execution_count": 63,
   "id": "377a7b7a",
   "metadata": {},
   "outputs": [
    {
     "name": "stdout",
     "output_type": "stream",
     "text": [
      "Для класса крови уникальными значениями являются:\n",
      " ['Цельная кровь' 'Плазма' 'Тромбоциты'] \n",
      " Для типа донации уникальными значениями являются:\n",
      " ['Безвозмездно'] \n",
      "\n"
     ]
    }
   ],
   "source": [
    "res = data_csv[0]\n",
    "for i in range(1,len(data_csv)):\n",
    "    res = pd.concat([res,data_csv[i]])\n",
    "print('Для класса крови уникальными значениями являются:\\n',res['Класс крови'].unique(),'\\n'\n",
    "      ,'Для типа донации уникальными значениями являются:\\n',res['Тип донации'].unique(),'\\n')"
   ]
  },
  {
   "cell_type": "markdown",
   "id": "1f0315fe",
   "metadata": {},
   "source": [
    "***Видно первый недостаток в предоставленных данных - отсутствие платной сдачи крови***"
   ]
  },
  {
   "cell_type": "markdown",
   "id": "dd9dcce6",
   "metadata": {},
   "source": [
    "Рассмотрим как класс крови и тип донации записан в справках."
   ]
  },
  {
   "cell_type": "code",
   "execution_count": 64,
   "id": "78e38aba",
   "metadata": {},
   "outputs": [
    {
     "data": {
      "text/plain": [
       "-1"
      ]
     },
     "execution_count": 64,
     "metadata": {},
     "output_type": "execute_result"
    }
   ],
   "source": [
    "cv.imshow(\"First\", first_imgs[0])\n",
    "cv.waitKey(0)"
   ]
  },
  {
   "cell_type": "markdown",
   "id": "fa96b9e9",
   "metadata": {},
   "source": [
    "Там представлены два значения:  \n",
    "1. кр/д(бв) - Цельная кровь, Безвозмездно  \n",
    "2. пл/д(бв) - Плазма, Безвозмезно \n",
    "\n",
    "Необходимо найти изображение, где есть класс крови тромбоциты и просмотреть его. "
   ]
  },
  {
   "cell_type": "code",
   "execution_count": 74,
   "id": "bb7febff",
   "metadata": {},
   "outputs": [
    {
     "name": "stdout",
     "output_type": "stream",
     "text": [
      "4\n",
      "11\n"
     ]
    }
   ],
   "source": [
    "for i in range(len(data_csv)):\n",
    "    if 'Тромбоциты' in data_csv[i]['Класс крови'].unique():\n",
    "        print(i)"
   ]
  },
  {
   "cell_type": "markdown",
   "id": "82ffcde7",
   "metadata": {},
   "source": [
    "Рассмотрим четвертое изображение."
   ]
  },
  {
   "cell_type": "code",
   "execution_count": 73,
   "id": "936013f3",
   "metadata": {},
   "outputs": [
    {
     "data": {
      "text/plain": [
       "-1"
      ]
     },
     "execution_count": 73,
     "metadata": {},
     "output_type": "execute_result"
    }
   ],
   "source": [
    "cv.imshow(\"First\", first_imgs[4])\n",
    "cv.waitKey(0)"
   ]
  },
  {
   "cell_type": "markdown",
   "id": "785ab85a",
   "metadata": {},
   "source": [
    "После просмотра получили дополнительную информацию, о существовании двух типов справок 405: 4я = 405-01/у и 0я = 405-05/у.  \n",
    "В четвертой справке три типа записи:  \n",
    "1. к/д(бв) - Цельная кровь, Безвозмездно  \n",
    "2. п/ф(бв) - Плазма, Безвозмезно  \n",
    "3. т/ф(бв) - Тромбоциты, Безвозмезно  \n",
    "\n",
    "Рассмотрим одиннадцотое изображение.  "
   ]
  },
  {
   "cell_type": "code",
   "execution_count": 75,
   "id": "84c16173",
   "metadata": {},
   "outputs": [
    {
     "data": {
      "text/plain": [
       "-1"
      ]
     },
     "execution_count": 75,
     "metadata": {},
     "output_type": "execute_result"
    }
   ],
   "source": [
    "cv.imshow(\"First\", first_imgs[11])\n",
    "cv.waitKey(0)"
   ]
  },
  {
   "cell_type": "markdown",
   "id": "2feb2207",
   "metadata": {},
   "source": [
    "Там представлены два значения:  \n",
    "1. кр/д(бв) - Цельная кровь, Безвозмездно  \n",
    "2. пл/д(бв) - Плазма, Безвозмезно \n",
    "3. ц/д(бв) - Тромбоциты, Безвозмезно  "
   ]
  },
  {
   "cell_type": "markdown",
   "id": "00a5dab7",
   "metadata": {},
   "source": [
    "При просмотре донормативной документации не найдено сокращения для платной сдачи крови.  \n",
    "Сделаем предположение, что начинается оно с буквы \"п\".  \n",
    "Соответственно, можно создать два словаря соответствия.  "
   ]
  },
  {
   "cell_type": "code",
   "execution_count": 76,
   "id": "8d9b1829",
   "metadata": {},
   "outputs": [],
   "source": [
    "blood_class = {'к':'Цельная кровь','п':'Плазма','т':'Тромбоциты','ц':'Тромбоциты'}\n",
    "donation_type = {'б':'Безвозмезно','п':'Платно'}"
   ]
  },
  {
   "cell_type": "markdown",
   "id": "2ddaac7a",
   "metadata": {},
   "source": [
    "# 2. Распознование таблиц в изображениях"
   ]
  }
 ],
 "metadata": {
  "kernelspec": {
   "display_name": "Python 3 (ipykernel)",
   "language": "python",
   "name": "python3"
  },
  "language_info": {
   "codemirror_mode": {
    "name": "ipython",
    "version": 3
   },
   "file_extension": ".py",
   "mimetype": "text/x-python",
   "name": "python",
   "nbconvert_exporter": "python",
   "pygments_lexer": "ipython3",
   "version": "3.9.13"
  }
 },
 "nbformat": 4,
 "nbformat_minor": 5
}
